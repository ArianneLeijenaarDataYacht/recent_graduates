{
 "cells": [
  {
   "cell_type": "markdown",
   "metadata": {},
   "source": [
    "## Visualizing Earnings Based on College Majors"
   ]
  },
  {
   "cell_type": "markdown",
   "metadata": {},
   "source": [
    "In this project, we'll explore the job outcomes of students who graduated from college between 2010 and 2012 in the United States. \n",
    "The dataset we work with was obducted from the American Community Survey site and cleaned by FiveThirtyEight.\n",
    "\n",
    "Using visualizations, we will answer the following questions:\n",
    "- Do students in more popular majors make more money? (scatter plots)\n",
    "- How many majors are predominantly male? Predominantly female? (histograms)\n",
    "- Which category of majors have the most students? (barplots)\n"
   ]
  },
  {
   "cell_type": "markdown",
   "metadata": {},
   "source": [
    "Before we start creating data visualizations, let't import the libraries we need and remove rows containing null values."
   ]
  },
  {
   "cell_type": "code",
   "execution_count": null,
   "metadata": {},
   "outputs": [],
   "source": [
    "# Import pandas and matplotlib into the environment\n",
    "import pandas as pd\n",
    "import matplotlib.pyplot as plt\n",
    "\n",
    "#Run the Jupyter magic %matplotlib inline so that the plots are displayed inline\n",
    "%matplotlib inline\n",
    "\n",
    "# Read the dataset into a DataFrame and start exploring the data\n",
    "recent_grads = pd.read_csv ('recent-grads.csv')"
   ]
  },
  {
   "cell_type": "code",
   "execution_count": null,
   "metadata": {},
   "outputs": [],
   "source": [
    "# Use DataFrame.iloc [] to return the first row formatted as a table\n",
    "recent_grads.iloc[0]"
   ]
  },
  {
   "cell_type": "code",
   "execution_count": null,
   "metadata": {},
   "outputs": [],
   "source": [
    "# Use DataFrame.iloc [] to return the first row formatted as a table\n",
    "recent_grads.iloc[0]"
   ]
  },
  {
   "cell_type": "code",
   "execution_count": null,
   "metadata": {},
   "outputs": [],
   "source": [
    "# Use DataFrame.head() to become familiar with how the data is structured\n",
    "recent_grads.head()"
   ]
  },
  {
   "cell_type": "code",
   "execution_count": null,
   "metadata": {},
   "outputs": [],
   "source": [
    "# Use DataFrame.tail() to become familiar with how the data is structured\n",
    "recent_grads.tail()"
   ]
  },
  {
   "cell_type": "code",
   "execution_count": null,
   "metadata": {},
   "outputs": [],
   "source": [
    "# Use DataFrame.describe() to generate summary statistics for all of the numeric columns\n",
    "recent_grads.describe()"
   ]
  },
  {
   "cell_type": "code",
   "execution_count": null,
   "metadata": {},
   "outputs": [],
   "source": [
    "# Drop rows with missing values. Matplotlib expects that columns of values we pass in having matching lengths and missing values will cause matplotlib to throw errors.\n",
    "# Look up the numbr of rows in recent_grads and assign the value to raw_data_count\n",
    "raw_data_count = 173"
   ]
  },
  {
   "cell_type": "code",
   "execution_count": null,
   "metadata": {},
   "outputs": [],
   "source": [
    "# Use the DataFrame.dropna() to drop rows containing missing values and assign the resulting DataFrame back to recent_grads\n",
    "recent_grads = recent_grads.dropna()"
   ]
  },
  {
   "cell_type": "code",
   "execution_count": null,
   "metadata": {},
   "outputs": [],
   "source": [
    "# Look up the number of rows in recent_grads now and assign the value to cleaned_data_count.\n",
    "# If you compare cleaned_data_counr and raw_data_count, you'll notice that onlyu one row contained missing values and was dropped.\n",
    "recent_grads.describe ()\n",
    "\n",
    "cleaned_data_count = 172"
   ]
  },
  {
   "cell_type": "code",
   "execution_count": null,
   "metadata": {},
   "outputs": [],
   "source": [
    "#Generate scatter plots in seperate Jupyter notenbook cells to explore the following relations:\n",
    "\n",
    "# Sample_size and Median\n",
    "plt.scatter(recent_grads['Sample_size'], recent_grads['Median'])\n",
    "plt.show()"
   ]
  },
  {
   "cell_type": "code",
   "execution_count": null,
   "metadata": {},
   "outputs": [],
   "source": [
    "# Sample_size and Unemployment_rate\n",
    "plt.scatter(recent_grads['Sample_size'], recent_grads['Unemployment_rate'])\n",
    "plt.show()"
   ]
  },
  {
   "cell_type": "code",
   "execution_count": null,
   "metadata": {},
   "outputs": [],
   "source": [
    "# Full_time and Median \n",
    "plt.scatter(recent_grads['Full_time'], recent_grads['Median'])\n",
    "plt.show()"
   ]
  },
  {
   "cell_type": "code",
   "execution_count": null,
   "metadata": {},
   "outputs": [],
   "source": [
    "# ShareWomen and Employment_rate\n",
    "plt.scatter(recent_grads['ShareWomen'], recent_grads['Median'])\n",
    "plt.show()"
   ]
  },
  {
   "cell_type": "code",
   "execution_count": null,
   "metadata": {},
   "outputs": [],
   "source": [
    "# Men and Median \n",
    "plt.scatter(recent_grads['Men'], recent_grads['Median'])\n",
    "plt.show()"
   ]
  },
  {
   "cell_type": "code",
   "execution_count": null,
   "metadata": {},
   "outputs": [],
   "source": [
    "# Women and Median\n",
    "plt.scatter(recent_grads['Women'], recent_grads['Median'])\n",
    "plt.show()"
   ]
  },
  {
   "cell_type": "markdown",
   "metadata": {},
   "source": [
    "Use the plots to explore the following questions:\n",
    "- Do students in more popular majors make more money?\n",
    "- Do students that majored in subjects that were majority female make more money?\n",
    "- Is there any link between the number of full-time employees and median salary?"
   ]
  },
  {
   "cell_type": "markdown",
   "metadata": {},
   "source": [
    "In order to give an accurate answer to the first question: whether students in more popular majors make more money, the Total has to be compared with the Median, as showed below."
   ]
  },
  {
   "cell_type": "code",
   "execution_count": null,
   "metadata": {},
   "outputs": [],
   "source": [
    "# Do students in more popular majors make more money?\n",
    "plt.scatter(recent_grads['Total'], recent_grads['Median'])\n",
    "plt.show()"
   ]
  },
  {
   "cell_type": "markdown",
   "metadata": {},
   "source": [
    "There seems to be no or no significant linear correlation between the popularity of the major and the amount of money graduates earn. "
   ]
  },
  {
   "cell_type": "markdown",
   "metadata": {},
   "source": [
    "In addition, looking at the scatter plot of the Share of Women in the majors and the median salary of full-time, year-round graduates, students that majored in subjects in which the majority was female earn slightly \n",
    "less as opposed to the majored subjects of which the majority are men. "
   ]
  },
  {
   "cell_type": "markdown",
   "metadata": {},
   "source": [
    "Moreover, there seems to be no clear linear correlation between the number of full-time employees of different majors and the median salary."
   ]
  },
  {
   "cell_type": "code",
   "execution_count": null,
   "metadata": {},
   "outputs": [],
   "source": [
    "# Generate histograms to explore the distributions of the following columns: \n",
    "# Sample_size\n",
    "recent_grads[\"Sample_size\"].hist(bins=10, range=(0,5000))\n",
    "plt.xlabel('Number of Graduates')\n",
    "plt.ylabel('Number of Majors')"
   ]
  },
  {
   "cell_type": "markdown",
   "metadata": {},
   "source": [
    "The histogram above shows that the majority of majors have a sample size of 500 graduates that work full-time."
   ]
  },
  {
   "cell_type": "code",
   "execution_count": null,
   "metadata": {},
   "outputs": [],
   "source": [
    "# Median\n",
    "recent_grads['Median'].hist(bins=30, range=(0,150000))\n",
    "plt.xlabel('Median salary of full-time year-round graduates, per year')\n",
    "plt.ylabel('Number of majors')"
   ]
  },
  {
   "cell_type": "markdown",
   "metadata": {},
   "source": [
    "Most majors have graduates that earn a median salary range of 30.000 - 40.000 a year."
   ]
  },
  {
   "cell_type": "code",
   "execution_count": null,
   "metadata": {},
   "outputs": [],
   "source": [
    "# Employed\n",
    "recent_grads[\"Employed\"].hist(bins=40, range=(0,310000))\n",
    "plt.xlabel ('Number of employed graduates')\n",
    "plt.ylabel('Number of Majors')"
   ]
  },
  {
   "cell_type": "markdown",
   "metadata": {},
   "source": [
    "Most of the majors deliver up to 20.000 employed graduates, whereas a small amount of majors deliver more than 100.000 employed graduates. "
   ]
  },
  {
   "cell_type": "code",
   "execution_count": null,
   "metadata": {},
   "outputs": [],
   "source": [
    "# Full_time\n",
    "recent_grads[\"Full_time\"].hist(bins=40, range=(0,300000))\n",
    "plt.xlabel ('Number of Full-time graduates')\n",
    "plt.ylabel('Number of Majors')"
   ]
  },
  {
   "cell_type": "markdown",
   "metadata": {},
   "source": [
    "Most of the majors deliver up to 20.000 graduates that work full-time, whereas there is a small amount of majors that deliver more than 100.000 full-time graduates. \n",
    "Although the difference between the number of majors with employed and full-time graduates is small, there seems to be a slight decrease in the number of full-time graduates as opposed to employed graduates. "
   ]
  },
  {
   "cell_type": "code",
   "execution_count": null,
   "metadata": {},
   "outputs": [],
   "source": [
    "# ShareWomen\n",
    "recent_grads[\"ShareWomen\"].hist(bins=5, range=(0,1))\n",
    "plt.xlabel ('Share of Women')\n",
    "plt.ylabel ('Number of Majors')"
   ]
  },
  {
   "cell_type": "markdown",
   "metadata": {},
   "source": [
    "The percentage of majors that are predominantly female seems to be around 50% and the same goes for the predominantly male majors."
   ]
  },
  {
   "cell_type": "code",
   "execution_count": null,
   "metadata": {},
   "outputs": [],
   "source": [
    "# Unemployment_rate\n",
    "recent_grads[\"Unemployment_rate\"].hist(bins=25, range=(0,0.2))\n",
    "plt.xlabel ('Unemployment Rate')\n",
    "plt.ylabel ('Number of Majors')"
   ]
  },
  {
   "cell_type": "markdown",
   "metadata": {},
   "source": [
    "Most majors have an unemployment rate of 4 to 12 percent. "
   ]
  },
  {
   "cell_type": "code",
   "execution_count": null,
   "metadata": {},
   "outputs": [],
   "source": [
    "# Men\n",
    "recent_grads[\"Men\"].hist(bins=10, range=(0,175000))\n",
    "plt.xlabel ('Number of Male Graduates')\n",
    "plt.ylabel ('Number of Majors')"
   ]
  },
  {
   "cell_type": "markdown",
   "metadata": {},
   "source": [
    "Most majors have around 15.000 male students."
   ]
  },
  {
   "cell_type": "code",
   "execution_count": null,
   "metadata": {},
   "outputs": [],
   "source": [
    "# Women\n",
    "recent_grads[\"Women\"].hist(bins=10, range=(0,310000))"
   ]
  },
  {
   "cell_type": "markdown",
   "metadata": {},
   "source": [
    "Most majors have around 25.000 female graduates."
   ]
  },
  {
   "cell_type": "markdown",
   "metadata": {},
   "source": [
    "To conclude, Approximately 50% of the majors are dominantly male, or predominantly female. However, in total, there are much more female graduates as opposed to male graduates."
   ]
  },
  {
   "cell_type": "markdown",
   "metadata": {},
   "source": [
    "In addition, the most common median salary range is between 30.000 and 40.000 a year."
   ]
  },
  {
   "cell_type": "code",
   "execution_count": null,
   "metadata": {},
   "outputs": [],
   "source": [
    "# Create a 2 by 2 scatter matric plot using the Sample_size and Median columns\n",
    "pd.plotting.scatter_matrix(recent_grads[['Sample_size', 'Median']], figsize=(10,10))"
   ]
  },
  {
   "cell_type": "markdown",
   "metadata": {},
   "source": [
    "The scatter matrix above shows that there is no significant linear correlation between the sample size and median salary. "
   ]
  },
  {
   "cell_type": "code",
   "execution_count": null,
   "metadata": {},
   "outputs": [],
   "source": [
    "# Create a 3 by 3 scatter matrix plot using the Sample_size, Median, and Unemployment_rate\n",
    "pd.plotting.scatter_matrix(recent_grads[['Sample_size', 'Median', 'Unemployment_rate']])"
   ]
  },
  {
   "cell_type": "markdown",
   "metadata": {},
   "source": [
    "There seems to be a weak linear correlation between the median salary and the unemployment rate."
   ]
  },
  {
   "cell_type": "code",
   "execution_count": null,
   "metadata": {},
   "outputs": [],
   "source": [
    "# Explore the questions from the last step using these scatter matris plots\n",
    "pd.plotting.scatter_matrix(recent_grads[['Women', 'Men','Total']], figsize=(10,10))"
   ]
  },
  {
   "cell_type": "markdown",
   "metadata": {},
   "source": [
    "There is a clear linear correlation between the total number of graduates and the total amount of men and women. This is to be expected. What is more interesting, however, is that the linear correlation between total number of graduates and the total amount of women graduates seems significntly higher as opposed to the correlation between total amount of graduates and total amount of male graduates. \n",
    "From the histograms above, we van estimate the total percentage of majors that are predominantly female or male is about 50%. The describe function at the top of the page, however, displayed a median percentage of 52,2% female presence of graduates in all majors, as opposed to 47,8% male graduates. "
   ]
  },
  {
   "cell_type": "code",
   "execution_count": null,
   "metadata": {},
   "outputs": [],
   "source": [
    "# Use bar plots to compare the percentages of women (ShareWomen) from the first and last ten rows of the recent_grads dataframe\n",
    "# First ten rows\n",
    "recent_grads[:10].plot.bar(x='Major', y='ShareWomen')"
   ]
  },
  {
   "cell_type": "code",
   "execution_count": null,
   "metadata": {},
   "outputs": [],
   "source": [
    "# Last ten rows\n",
    "recent_grads[162:173].plot.bar(x='Major', y='ShareWomen')"
   ]
  },
  {
   "cell_type": "markdown",
   "metadata": {},
   "source": [
    "The following majors have a higher percentage of women graduates:\n",
    "- Astronomy and Astrophysics\n",
    "- Communication disorders sciences and services\n",
    "- Early Childhood Education\n",
    "- Other Foreign Languages\n",
    "- Drama and Theater Arts\n",
    "- Composition and Rhetoric\n",
    "- Zoology\n",
    "- Educational Psychology\n",
    "- Clinical Psychology\n",
    "- Counseling Psychology\n",
    "- Library Science"
   ]
  },
  {
   "cell_type": "code",
   "execution_count": null,
   "metadata": {},
   "outputs": [],
   "source": [
    "# Use bar plots to compare the unemployment rate (Unemployment_rate) from the first ten rows and lest ten rows of the recent_grads dataframe\n",
    "# First ten rows\n",
    "recent_grads[:10].plot.bar(x='Major', y='Unemployment_rate')"
   ]
  },
  {
   "cell_type": "code",
   "execution_count": null,
   "metadata": {},
   "outputs": [],
   "source": [
    "# The last ten rows\n",
    "recent_grads[162:174].plot.bar(x= \"Major\", y=\"Unemployment_rate\")"
   ]
  },
  {
   "cell_type": "markdown",
   "metadata": {},
   "source": [
    "The unemployment rate is highest in the following majors:\n",
    "- Clinical Psychology\n",
    "- Library Science\n",
    "- Other Foreign Languages\n",
    "- Nuclear Engineering\n",
    "- Mining and Mineral Engineering\n",
    "\n",
    "In conclusion, both the predominantly female and male majors can have significantly high unemployment rates."
   ]
  },
  {
   "cell_type": "code",
   "execution_count": null,
   "metadata": {},
   "outputs": [],
   "source": []
  }
 ],
 "metadata": {
  "kernelspec": {
   "display_name": "Python 3",
   "language": "python",
   "name": "python3"
  },
  "language_info": {
   "codemirror_mode": {
    "name": "ipython",
    "version": 3
   },
   "file_extension": ".py",
   "mimetype": "text/x-python",
   "name": "python",
   "nbconvert_exporter": "python",
   "pygments_lexer": "ipython3",
   "version": "3.7.6"
  }
 },
 "nbformat": 4,
 "nbformat_minor": 4
}
